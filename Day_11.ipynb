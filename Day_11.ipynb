{
  "nbformat": 4,
  "nbformat_minor": 0,
  "metadata": {
    "colab": {
      "provenance": [],
      "authorship_tag": "ABX9TyNsW4U0Aprp878qvL5zXVQw",
      "include_colab_link": true
    },
    "kernelspec": {
      "name": "python3",
      "display_name": "Python 3"
    },
    "language_info": {
      "name": "python"
    }
  },
  "cells": [
    {
      "cell_type": "markdown",
      "metadata": {
        "id": "view-in-github",
        "colab_type": "text"
      },
      "source": [
        "<a href=\"https://colab.research.google.com/github/lerissamistry/Christmas-Coding-Challenge-2024/blob/main/Day_11.ipynb\" target=\"_parent\"><img src=\"https://colab.research.google.com/assets/colab-badge.svg\" alt=\"Open In Colab\"/></a>"
      ]
    },
    {
      "cell_type": "markdown",
      "source": [
        "**Problem: Personalised Workout Planner**\n",
        "\n",
        "You’re designing a Python program that creates personalized weekly workout plans for users based on their fitness goals and preferences. The program will:\n",
        "\n",
        "Ask the user to input their goal:\n",
        "\n",
        "\"weight_loss\"\n",
        "\"muscle_gain\"\n",
        "\"general_fitness\"\n",
        "Use a predefined dictionary of exercises and their corresponding categories:\n",
        "\n",
        "exercises = {\n",
        "    \"Running\": \"cardio\",\n",
        "    \"Cycling\": \"cardio\",\n",
        "    \"Swimming\": \"cardio\",\n",
        "    \"Push-ups\": \"strength\",\n",
        "    \"Squats\": \"strength\",\n",
        "    \"Deadlifts\": \"strength\",\n",
        "    \"Yoga\": \"flexibility\",\n",
        "    \"Pilates\": \"flexibility\",\n",
        "    \"Stretching\": \"flexibility\"\n",
        "}\n",
        "\n",
        "Based on the user’s goal:\n",
        "\n",
        "Weight loss: Prioritize cardio exercises.\n",
        "Muscle gain: Prioritize strength exercises.\n",
        "General fitness: Include a balanced mix of cardio, strength, and flexibility exercises.\n",
        "Randomly assign 5 exercises for the week (1 per day, Monday to Friday). Each exercise should match the user’s goal, and exercises shouldn’t repeat.\n",
        "\n",
        "Save the weekly workout plan to a text file (workout_plan.txt) with the following format:\n",
        "\n",
        "Weekly Workout Plan for General Fitness:\n",
        "Monday: Running\n",
        "Tuesday: Push-ups\n",
        "Wednesday: Yoga\n",
        "Thursday: Cycling\n",
        "Friday: Squats\n"
      ],
      "metadata": {
        "id": "Q9JP3k1Z-VhM"
      }
    },
    {
      "cell_type": "code",
      "source": [
        "import pandas as pd\n",
        "import numpy as np\n",
        "import random"
      ],
      "metadata": {
        "id": "q7Wtpzo2Wxbb"
      },
      "execution_count": 1,
      "outputs": []
    },
    {
      "cell_type": "code",
      "source": [
        "# Predefined exercises and their categories\n",
        "exercises = {\n",
        "    \"Running\": \"cardio\",\n",
        "    \"Cycling\": \"cardio\",\n",
        "    \"Swimming\": \"cardio\",\n",
        "    \"Push-ups\": \"strength\",\n",
        "    \"Squats\": \"strength\",\n",
        "    \"Deadlifts\": \"strength\",\n",
        "    \"Yoga\": \"flexibility\",\n",
        "    \"Pilates\": \"flexibility\",\n",
        "    \"Stretching\": \"flexibility\"\n",
        "}"
      ],
      "metadata": {
        "id": "8KgNvSE2V_AM"
      },
      "execution_count": 3,
      "outputs": []
    },
    {
      "cell_type": "markdown",
      "source": [
        "A dictionary is created where each exercise is mapped to a category (e.g., \"cardio,\" \"strength,\" or \"flexibility\").\n",
        "This will be used to filter exercises based on the user's fitness goal."
      ],
      "metadata": {
        "id": "PNNih35cjlHM"
      }
    },
    {
      "cell_type": "code",
      "source": [
        "# Function to filter exercises based on fitness goal\n",
        "def get_exercises_by_goal(goal):\n",
        "    if goal == \"weight_loss\":\n",
        "        return [exercise for exercise, category in exercises.items() if category == \"cardio\"]\n",
        "    elif goal == \"muscle_gain\":\n",
        "        return [exercise for exercise, category in exercises.items() if category == \"strength\"]\n",
        "    elif goal == \"general_fitness\":\n",
        "        return list(exercises.keys())  # Include all exercises\n",
        "    else:\n",
        "        return []"
      ],
      "metadata": {
        "id": "vxaIXtceim-F"
      },
      "execution_count": 4,
      "outputs": []
    },
    {
      "cell_type": "markdown",
      "source": [
        "1. def get_exercises_by_goal(goal)::\n",
        "\n",
        "A function is defined to filter exercises based on the user's goal.\n",
        "\n",
        "2. if goal == \"weight_loss\"::\n",
        "\n",
        "If the goal is weight loss, return a list comprehension that includes only exercises labeled as \"cardio.\"\n",
        "\n",
        "3. elif goal == \"muscle_gain\"::\n",
        "\n",
        "If the goal is muscle gain, return only \"strength\" exercises.\n",
        "\n",
        "4. elif goal == \"general_fitness\"::\n",
        "\n",
        "If the goal is general fitness, return all exercises.\n",
        "\n",
        "5. else::\n",
        "\n",
        "If the user provides an invalid goal, return an empty list."
      ],
      "metadata": {
        "id": "OOw6lTg4jot8"
      }
    },
    {
      "cell_type": "code",
      "source": [
        "# Function to create a weekly workout plan\n",
        "def create_workout_plan(goal, days=5):\n",
        "    selected_exercises = get_exercises_by_goal(goal)\n",
        "    if not selected_exercises:\n",
        "        print(\"Invalid fitness goal. Please choose from 'weight_loss', 'muscle_gain', or 'general_fitness'.\")\n",
        "        return None\n",
        "\n",
        "    # Randomly choose exercises for the week\n",
        "    workout_plan = random.sample(selected_exercises, min(days, len(selected_exercises)))\n",
        "\n",
        "    # Assign exercises to weekdays\n",
        "    weekdays = [\"Monday\", \"Tuesday\", \"Wednesday\", \"Thursday\", \"Friday\"]\n",
        "    plan = {day: workout_plan[i % len(workout_plan)] for i, day in enumerate(weekdays[:days])}\n",
        "    return plan"
      ],
      "metadata": {
        "id": "vBYF9DKJi6MK"
      },
      "execution_count": 5,
      "outputs": []
    },
    {
      "cell_type": "markdown",
      "source": [
        "1. def create_workout_plan(goal, days=5)::\n",
        "\n",
        "A function is defined to create a weekly workout plan for a given goal and number of workout days (default is 5).\n",
        "\n",
        "2. selected_exercises = get_exercises_by_goal(goal):\n",
        "\n",
        "Calls the previous function to get exercises that match the goal.\n",
        "\n",
        "3. if not selected_exercises::\n",
        "\n",
        "Checks if the list of exercises is empty. If so, it means the user entered an invalid goal.\n",
        "\n",
        "4. workout_plan = random.sample(selected_exercises, min(days, len(selected_exercises))):\n",
        "\n",
        "Randomly selects exercises for the plan.\n",
        "Ensures the number of selected exercises doesn’t exceed the available exercises or the specified number of days.\n",
        "\n",
        "5. weekdays = [\"Monday\", \"Tuesday\", \"Wednesday\", \"Thursday\", \"Friday\"]:\n",
        "\n",
        "A list of weekdays to assign the exercises to.\n",
        "\n",
        "6. plan = {day: workout_plan[i % len(workout_plan)] for i, day in enumerate(weekdays[:days])}:\n",
        "\n",
        "Creates a dictionary where each weekday is assigned an exercise.\n",
        "Uses enumerate to loop through the weekdays and match them with exercises.\n",
        "Uses modulo (%) to cycle through the exercises if fewer than days.\n",
        "\n",
        "7. return plan:\n",
        "\n",
        "Returns the final workout plan as a dictionary.\n"
      ],
      "metadata": {
        "id": "WEvrUC9cj33s"
      }
    },
    {
      "cell_type": "code",
      "source": [
        "# Function to save the workout plan to a file\n",
        "def save_workout_plan_to_file(plan, goal):\n",
        "    with open(\"workout_plan.txt\", \"w\") as file:\n",
        "        file.write(f\"Weekly Workout Plan for {goal.replace('_', ' ').title()}:\\n\")\n",
        "        for day, exercise in plan.items():\n",
        "            file.write(f\"{day}: {exercise}\\n\")\n",
        "    print(\"Workout plan saved to 'workout_plan.txt'.\")"
      ],
      "metadata": {
        "id": "1W1scUbIi6Z1"
      },
      "execution_count": 6,
      "outputs": []
    },
    {
      "cell_type": "markdown",
      "source": [
        "1. def save_workout_plan_to_file(plan, goal)::\n",
        "\n",
        "A function is defined to save the workout plan to a file.\n",
        "\n",
        "2. with open(\"workout_plan.txt\", \"w\") as file::\n",
        "\n",
        "Opens (or creates) a file named workout_plan.txt in write mode (\"w\").\n",
        "\n",
        "3. file.write(...):\n",
        "\n",
        "Writes the header and each day’s exercise to the file.\n",
        "\n",
        "4. goal.replace('_', ' ').title():\n",
        "\n",
        "Formats the goal nicely (e.g., \"weight_loss\" becomes \"Weight Loss\").\n",
        "\n",
        "5. print(...):\n",
        "\n",
        "Informs the user that the workout plan has been saved.\n"
      ],
      "metadata": {
        "id": "IrtinG2RkJqS"
      }
    },
    {
      "cell_type": "code",
      "source": [
        "# Main program\n",
        "def main():\n",
        "    print(\"Welcome to the Workout Planner!\")\n",
        "    goal = input(\"Please enter your fitness goal (weight_loss, muscle_gain, general_fitness): \").strip().lower()\n",
        "\n",
        "    # Create the workout plan\n",
        "    workout_plan = create_workout_plan(goal)\n",
        "    if workout_plan:\n",
        "        print(\"\\nYour weekly workout plan:\")\n",
        "        for day, exercise in workout_plan.items():\n",
        "            print(f\"{day}: {exercise}\")\n",
        "\n",
        "        # Save to file\n",
        "        save_workout_plan_to_file(workout_plan, goal)"
      ],
      "metadata": {
        "id": "xRibU4zPi80E"
      },
      "execution_count": 9,
      "outputs": []
    },
    {
      "cell_type": "markdown",
      "source": [
        "1. def main()::\n",
        "\n",
        "The main function that controls the program flow.\n",
        "\n",
        "2. goal = input(...):\n",
        "\n",
        "Prompts the user to input their fitness goal.\n",
        "\n",
        "3. workout_plan = create_workout_plan(goal):\n",
        "\n",
        "Calls the function to generate a workout plan based on the user’s input.\n",
        "\n",
        "4. if workout_plan::\n",
        "\n",
        "Proceeds only if a valid workout plan is generated.\n",
        "\n",
        "5. for day, exercise in workout_plan.items()::\n",
        "\n",
        "Loops through the dictionary to display the plan in the terminal.\n",
        "\n",
        "6. save_workout_plan_to_file(workout_plan, goal):\n",
        "\n",
        "Saves the plan to a file for future reference."
      ],
      "metadata": {
        "id": "3Nhxqb_4kQN0"
      }
    },
    {
      "cell_type": "code",
      "source": [
        "# Run the program\n",
        "if __name__ == \"__main__\":\n",
        "    main()"
      ],
      "metadata": {
        "colab": {
          "base_uri": "https://localhost:8080/"
        },
        "id": "IJt_p0syjAet",
        "outputId": "12da8ef2-cea3-41b4-ccf9-e785a8e91fe0"
      },
      "execution_count": 10,
      "outputs": [
        {
          "output_type": "stream",
          "name": "stdout",
          "text": [
            "Welcome to the Workout Planner!\n",
            "Please enter your fitness goal (weight_loss, muscle_gain, general_fitness): weight_loss\n",
            "\n",
            "Your weekly workout plan:\n",
            "Monday: Cycling\n",
            "Tuesday: Running\n",
            "Wednesday: Swimming\n",
            "Thursday: Cycling\n",
            "Friday: Running\n",
            "Workout plan saved to 'workout_plan.txt'.\n"
          ]
        }
      ]
    },
    {
      "cell_type": "markdown",
      "source": [
        "This ensures the main() function runs only when the script is executed directly, not when imported."
      ],
      "metadata": {
        "id": "3NkigpbukXlb"
      }
    },
    {
      "cell_type": "code",
      "source": [],
      "metadata": {
        "id": "n0IpWo6vjRGM"
      },
      "execution_count": null,
      "outputs": []
    }
  ]
}