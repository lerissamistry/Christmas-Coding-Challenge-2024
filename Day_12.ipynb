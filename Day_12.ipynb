{
  "nbformat": 4,
  "nbformat_minor": 0,
  "metadata": {
    "colab": {
      "provenance": [],
      "authorship_tag": "ABX9TyP2WL/x3cPAKDgOt6CvtAHT",
      "include_colab_link": true
    },
    "kernelspec": {
      "name": "python3",
      "display_name": "Python 3"
    },
    "language_info": {
      "name": "python"
    }
  },
  "cells": [
    {
      "cell_type": "markdown",
      "metadata": {
        "id": "view-in-github",
        "colab_type": "text"
      },
      "source": [
        "<a href=\"https://colab.research.google.com/github/lerissamistry/Christmas-Coding-Challenge-2024/blob/main/Day_12.ipynb\" target=\"_parent\"><img src=\"https://colab.research.google.com/assets/colab-badge.svg\" alt=\"Open In Colab\"/></a>"
      ]
    },
    {
      "cell_type": "markdown",
      "source": [
        "**Problem: Step Counter Tracker**\n",
        "\n",
        "Write a program that helps a user track their daily step count for a week. The program should:\n",
        "\n",
        "Ask the user to enter their step count for each day of the week.\n",
        "Store the step counts in a list.\n",
        "Calculate:\n",
        "The total steps for the week.\n",
        "The average daily steps.\n",
        "The day with the highest step count.\n",
        "Display the results in a user-friendly way.\n"
      ],
      "metadata": {
        "id": "Q9JP3k1Z-VhM"
      }
    },
    {
      "cell_type": "code",
      "source": [
        "# List of weekdays\n",
        "weekdays = [\"Monday\", \"Tuesday\", \"Wednesday\", \"Thursday\", \"Friday\", \"Saturday\", \"Sunday\"]\n",
        "\n",
        "# List to store step counts\n",
        "step_counts = []\n"
      ],
      "metadata": {
        "id": "n0IpWo6vjRGM"
      },
      "execution_count": 1,
      "outputs": []
    },
    {
      "cell_type": "code",
      "source": [
        "# Collecting step counts from the user\n",
        "for day in weekdays:\n",
        "    steps = int(input(f\"Enter steps for {day}: \"))\n",
        "    step_counts.append(steps)"
      ],
      "metadata": {
        "colab": {
          "base_uri": "https://localhost:8080/"
        },
        "id": "-9ps_0fMISzY",
        "outputId": "dd424c24-99d4-4ad1-c9db-2da4e77083ce"
      },
      "execution_count": 2,
      "outputs": [
        {
          "name": "stdout",
          "output_type": "stream",
          "text": [
            "Enter steps for Monday: 6578\n",
            "Enter steps for Tuesday: 4567\n",
            "Enter steps for Wednesday: 7645\n",
            "Enter steps for Thursday: 2374\n",
            "Enter steps for Friday: 4524\n",
            "Enter steps for Saturday: 2345\n",
            "Enter steps for Sunday: 9745\n"
          ]
        }
      ]
    },
    {
      "cell_type": "code",
      "source": [
        "# Calculating total, average, and highest steps\n",
        "total_steps = sum(step_counts)  # Total steps for the week\n",
        "average_steps = total_steps // len(weekdays)  # Average daily steps\n",
        "max_steps = max(step_counts)  # Highest step count\n",
        "max_day = weekdays[step_counts.index(max_steps)]  # Day with the highest step count"
      ],
      "metadata": {
        "id": "crWEBHNKIVaC"
      },
      "execution_count": 3,
      "outputs": []
    },
    {
      "cell_type": "code",
      "source": [
        "# Displaying the results\n",
        "print(\"\\nWeekly Step Summary:\")\n",
        "print(f\"Total steps: {total_steps}\")\n",
        "print(f\"Average daily steps: {average_steps}\")\n",
        "print(f\"Highest step count: {max_steps} on {max_day}\")"
      ],
      "metadata": {
        "colab": {
          "base_uri": "https://localhost:8080/"
        },
        "id": "jK7vaWv0IXEC",
        "outputId": "a5535b06-a1a7-4648-d53b-a14e2b6377b1"
      },
      "execution_count": 4,
      "outputs": [
        {
          "output_type": "stream",
          "name": "stdout",
          "text": [
            "\n",
            "Weekly Step Summary:\n",
            "Total steps: 37778\n",
            "Average daily steps: 5396\n",
            "Highest step count: 9745 on Sunday\n"
          ]
        }
      ]
    },
    {
      "cell_type": "code",
      "source": [],
      "metadata": {
        "id": "qctJYWoGIaFF"
      },
      "execution_count": null,
      "outputs": []
    }
  ]
}