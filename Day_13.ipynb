{
  "nbformat": 4,
  "nbformat_minor": 0,
  "metadata": {
    "colab": {
      "provenance": [],
      "authorship_tag": "ABX9TyOVwDN2mhs8S/crB//r6/k5",
      "include_colab_link": true
    },
    "kernelspec": {
      "name": "python3",
      "display_name": "Python 3"
    },
    "language_info": {
      "name": "python"
    }
  },
  "cells": [
    {
      "cell_type": "markdown",
      "metadata": {
        "id": "view-in-github",
        "colab_type": "text"
      },
      "source": [
        "<a href=\"https://colab.research.google.com/github/lerissamistry/Christmas-Coding-Challenge-2024/blob/main/Day_13.ipynb\" target=\"_parent\"><img src=\"https://colab.research.google.com/assets/colab-badge.svg\" alt=\"Open In Colab\"/></a>"
      ]
    },
    {
      "cell_type": "markdown",
      "source": [
        "**Problem: Calorie Burn Converter**\n",
        "\n",
        "Write a program that converts calories burned during exercise from kilocalories (kcal) to joules.\n",
        "\n",
        "Ask the user to input the number of calories burned during their workout in kcal.\n",
        "Use the conversion formula:\n",
        "Joules = kcal × 4184\n",
        "Display the result as the energy burned in joules.\n"
      ],
      "metadata": {
        "id": "Q9JP3k1Z-VhM"
      }
    },
    {
      "cell_type": "code",
      "source": [
        "# Ask the user to input calories burned during their workout\n",
        "calories_burned = float(input(\"Enter calories burned during your workout (in kcal): \"))"
      ],
      "metadata": {
        "colab": {
          "base_uri": "https://localhost:8080/"
        },
        "id": "vEVaRayuO5CY",
        "outputId": "ce258382-adad-4e72-f1f3-82c670da3be5"
      },
      "execution_count": 2,
      "outputs": [
        {
          "name": "stdout",
          "output_type": "stream",
          "text": [
            "Enter calories burned during your workout (in kcal): 500\n"
          ]
        }
      ]
    },
    {
      "cell_type": "code",
      "source": [
        "# Convert calories to joules\n",
        "joules_burned = calories_burned * 4184\n",
        "\n",
        "# Display the result\n",
        "print(f\"You burned {joules_burned:.2f} joules during your workout!\")"
      ],
      "metadata": {
        "colab": {
          "base_uri": "https://localhost:8080/"
        },
        "id": "YHanXA5_O9f0",
        "outputId": "2e8ecaa0-b0aa-459a-896d-18b98d6854ff"
      },
      "execution_count": 3,
      "outputs": [
        {
          "output_type": "stream",
          "name": "stdout",
          "text": [
            "You burned 2092000.00 joules during your workout!\n"
          ]
        }
      ]
    },
    {
      "cell_type": "code",
      "source": [],
      "metadata": {
        "id": "cV-ZOalyPB6f"
      },
      "execution_count": null,
      "outputs": []
    }
  ]
}