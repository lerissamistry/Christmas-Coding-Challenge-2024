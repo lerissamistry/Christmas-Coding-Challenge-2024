{
  "nbformat": 4,
  "nbformat_minor": 0,
  "metadata": {
    "colab": {
      "provenance": [],
      "authorship_tag": "ABX9TyP0b9+SZOy0LFAsIZV/7wFB",
      "include_colab_link": true
    },
    "kernelspec": {
      "name": "python3",
      "display_name": "Python 3"
    },
    "language_info": {
      "name": "python"
    }
  },
  "cells": [
    {
      "cell_type": "markdown",
      "metadata": {
        "id": "view-in-github",
        "colab_type": "text"
      },
      "source": [
        "<a href=\"https://colab.research.google.com/github/lerissamistry/Christmas-Coding-Challenge-2024/blob/main/Day_14.ipynb\" target=\"_parent\"><img src=\"https://colab.research.google.com/assets/colab-badge.svg\" alt=\"Open In Colab\"/></a>"
      ]
    },
    {
      "cell_type": "markdown",
      "source": [
        "**Problem: Daily Water Intake Tracker**\n",
        "\n",
        "Write a program to calculate if a user met their daily water intake goal. The program should:\n",
        "\n",
        "Ask the user to input their daily water intake goal in liters.\n",
        "Prompt the user to enter the number of glasses of water they drank during the day.\n",
        "Assume each glass contains 250 milliliters (ml) of water.\n",
        "Calculate the total water intake in liters.\n",
        "Compare the total water intake with the goal and display:\n",
        "A message saying if they met their goal or how much more water they need to drink."
      ],
      "metadata": {
        "id": "Q9JP3k1Z-VhM"
      }
    },
    {
      "cell_type": "code",
      "source": [
        "# Ask the user to input daily water intake goal\n",
        "water_goal = float(input(\"Enter your daily water intake goal in liters: \"))\n",
        "\n",
        "# Ask the user to input how many glasses of water they drank in the day\n",
        "water_intake = float(input(\"Enter many glasses of water your drank today: \"))"
      ],
      "metadata": {
        "colab": {
          "base_uri": "https://localhost:8080/"
        },
        "id": "6g_X8QEaqf5J",
        "outputId": "98b2f33b-1d7e-4fb8-eef3-9ca43ea81744"
      },
      "execution_count": 3,
      "outputs": [
        {
          "name": "stdout",
          "output_type": "stream",
          "text": [
            "Enter your daily water intake goal in liters: 7\n",
            "Enter many glasses of water your drank today: 4\n"
          ]
        }
      ]
    },
    {
      "cell_type": "code",
      "source": [
        "# Convert glasses to liters\n",
        "total_water_intake = water_intake * 250 / 1000\n",
        "\n",
        "# % of target drank\n",
        "percent_drank = (total_water_intake / water_goal) * 100\n",
        "\n",
        "# Display the result\n",
        "print(f\"You drank {total_water_intake} liters today which is {round(percent_drank, 1)} percent of your goal.\")\n",
        "\n",
        "# Check if water intake meets goal or not\n",
        "if total_water_intake >= water_goal:\n",
        "    print(\"Congratulations! You met your daily water intake goal.\")\n",
        "else:\n",
        "    print(f\"You need to drink {water_goal - total_water_intake} more liters to meet your goal.\")\n"
      ],
      "metadata": {
        "colab": {
          "base_uri": "https://localhost:8080/"
        },
        "id": "YHanXA5_O9f0",
        "outputId": "0eb8cbca-3968-49aa-f5ca-e0f174ef1252"
      },
      "execution_count": 14,
      "outputs": [
        {
          "output_type": "stream",
          "name": "stdout",
          "text": [
            "You drank 1.0 liters today which is 14.3 percent of your goal.\n",
            "You need to drink 6.0 more liters to meet your goal.\n"
          ]
        }
      ]
    },
    {
      "cell_type": "code",
      "source": [],
      "metadata": {
        "id": "cV-ZOalyPB6f"
      },
      "execution_count": null,
      "outputs": []
    }
  ]
}