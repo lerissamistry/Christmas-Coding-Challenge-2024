{
  "nbformat": 4,
  "nbformat_minor": 0,
  "metadata": {
    "colab": {
      "provenance": [],
      "authorship_tag": "ABX9TyOsOJheywYH8HIa3as/VmBM",
      "include_colab_link": true
    },
    "kernelspec": {
      "name": "python3",
      "display_name": "Python 3"
    },
    "language_info": {
      "name": "python"
    }
  },
  "cells": [
    {
      "cell_type": "markdown",
      "metadata": {
        "id": "view-in-github",
        "colab_type": "text"
      },
      "source": [
        "<a href=\"https://colab.research.google.com/github/lerissamistry/Christmas-Coding-Challenge-2024/blob/main/Day_15.ipynb\" target=\"_parent\"><img src=\"https://colab.research.google.com/assets/colab-badge.svg\" alt=\"Open In Colab\"/></a>"
      ]
    },
    {
      "cell_type": "markdown",
      "source": [
        "**Problem: Protein Intake Tracker**\n",
        "\n",
        "Write a program to help a user track their daily protein intake. The program should:\n",
        "\n",
        "Ask the user for their daily protein goal in grams.\n",
        "Prompt the user to enter the protein content (in grams) of each meal/snack they had during the day.\n",
        "Stop asking for input when the user enters 0.\n",
        "Calculate the total protein consumed and compare it with their goal:\n",
        "Display how much protein they consumed.\n",
        "If they met or exceeded their goal, congratulate them.\n",
        "Otherwise, tell them how many grams of protein they still need."
      ],
      "metadata": {
        "id": "Q9JP3k1Z-VhM"
      }
    },
    {
      "cell_type": "code",
      "source": [
        "# Ask the user for their daily protein goal\n",
        "protein_goal = float(input(\"Enter your daily protein goal (in grams): \"))\n",
        "\n",
        "# Initialize total protein consumed\n",
        "total_protein = 0\n",
        "\n",
        "# Loop to record protein intake for 3 meals/snacks\n",
        "for i in range(1, 4):  # Loop runs exactly 3 times\n",
        "    protein = float(input(f\"Enter the protein content of meal/snack {i} (in grams): \"))\n",
        "    total_protein += protein  # Add protein to the total\n",
        "\n",
        "# Display the results\n",
        "print(f\"\\nYou consumed a total of {total_protein} grams of protein today.\")\n",
        "\n",
        "# Check if the goal is met, exceeded, or still needs more\n",
        "if total_protein >= protein_goal:\n",
        "    print(f\"Great job! You exceeded your goal by {total_protein - protein_goal:.2f} grams!\" if total_protein > protein_goal else \"You met your protein goal!\")\n",
        "else:\n",
        "    print(f\"You need {protein_goal - total_protein:.2f} more grams to reach your goal.\")"
      ],
      "metadata": {
        "colab": {
          "base_uri": "https://localhost:8080/"
        },
        "id": "f9_hET5rYaZc",
        "outputId": "863b5cf6-ccc8-4db0-83e8-7a6b11e74e4f"
      },
      "execution_count": 4,
      "outputs": [
        {
          "output_type": "stream",
          "name": "stdout",
          "text": [
            "Enter your daily protein goal (in grams): 90\n",
            "Enter the protein content of meal/snack 1 (in grams): 30\n",
            "Enter the protein content of meal/snack 2 (in grams): 35\n",
            "Enter the protein content of meal/snack 3 (in grams): 15\n",
            "\n",
            "You consumed a total of 80.0 grams of protein today.\n",
            "You need 10.00 more grams to reach your goal.\n"
          ]
        }
      ]
    },
    {
      "cell_type": "code",
      "source": [],
      "metadata": {
        "id": "q6SyeZh1YKUm"
      },
      "execution_count": null,
      "outputs": []
    }
  ]
}