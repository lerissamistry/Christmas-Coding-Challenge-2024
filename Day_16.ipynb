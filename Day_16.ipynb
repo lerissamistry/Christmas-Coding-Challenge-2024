{
  "nbformat": 4,
  "nbformat_minor": 0,
  "metadata": {
    "colab": {
      "provenance": [],
      "authorship_tag": "ABX9TyMS0BOEW/gaW2IRLssICah2",
      "include_colab_link": true
    },
    "kernelspec": {
      "name": "python3",
      "display_name": "Python 3"
    },
    "language_info": {
      "name": "python"
    }
  },
  "cells": [
    {
      "cell_type": "markdown",
      "metadata": {
        "id": "view-in-github",
        "colab_type": "text"
      },
      "source": [
        "<a href=\"https://colab.research.google.com/github/lerissamistry/Christmas-Coding-Challenge-2024/blob/main/Day_16.ipynb\" target=\"_parent\"><img src=\"https://colab.research.google.com/assets/colab-badge.svg\" alt=\"Open In Colab\"/></a>"
      ]
    },
    {
      "cell_type": "markdown",
      "source": [
        "**Problem: Water Intake Tracker**\n",
        "\n",
        "Write a program that asks the user for their water intake (in liters) for 3 different times of the day (morning, afternoon, and evening). Then, check if their total intake meets the recommended daily intake of 2 liters."
      ],
      "metadata": {
        "id": "Q9JP3k1Z-VhM"
      }
    },
    {
      "cell_type": "code",
      "source": [
        "recommended = 2  # Recommended daily water intake in liters\n",
        "\n",
        "# Collect water intake for morning, afternoon, and evening\n",
        "morning = float(input(\"Enter water intake in the morning (liters): \"))\n",
        "afternoon = float(input(\"Enter water intake in the afternoon (liters): \"))\n",
        "evening = float(input(\"Enter water intake in the evening (liters): \"))\n",
        "\n",
        "# Calculate total intake\n",
        "total = morning + afternoon + evening\n",
        "\n",
        "# Display result\n",
        "print(f\"\\nTotal water intake: {total} liters\")\n",
        "print(\"Well done! You met your water intake goal.\" if total >= recommended else f\"You need {recommended - total:.2f} more liters to reach your goal.\")"
      ],
      "metadata": {
        "colab": {
          "base_uri": "https://localhost:8080/"
        },
        "id": "eFfPoCdtQRgx",
        "outputId": "284aad5a-abdc-4688-f5fe-39e38d10001c"
      },
      "execution_count": 1,
      "outputs": [
        {
          "output_type": "stream",
          "name": "stdout",
          "text": [
            "Enter water intake in the morning (liters): 1\n",
            "Enter water intake in the afternoon (liters): 7\n",
            "Enter water intake in the evening (liters): 5\n",
            "\n",
            "Total water intake: 13.0 liters\n",
            "Well done! You met your water intake goal.\n"
          ]
        }
      ]
    },
    {
      "cell_type": "code",
      "source": [],
      "metadata": {
        "id": "Vo0asm2RQSJ-"
      },
      "execution_count": null,
      "outputs": []
    }
  ]
}