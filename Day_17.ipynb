{
  "nbformat": 4,
  "nbformat_minor": 0,
  "metadata": {
    "colab": {
      "provenance": [],
      "authorship_tag": "ABX9TyNL5YRfQKvWFswFHFdCOXnj",
      "include_colab_link": true
    },
    "kernelspec": {
      "name": "python3",
      "display_name": "Python 3"
    },
    "language_info": {
      "name": "python"
    }
  },
  "cells": [
    {
      "cell_type": "markdown",
      "metadata": {
        "id": "view-in-github",
        "colab_type": "text"
      },
      "source": [
        "<a href=\"https://colab.research.google.com/github/lerissamistry/Christmas-Coding-Challenge-2024/blob/main/Day_17.ipynb\" target=\"_parent\"><img src=\"https://colab.research.google.com/assets/colab-badge.svg\" alt=\"Open In Colab\"/></a>"
      ]
    },
    {
      "cell_type": "markdown",
      "source": [
        "**Problem: Exercise Calorie Tracker**\n",
        "\n",
        "Write a program that calculates the total calories burned after 3 exercises. Each exercise requires the user to input the number of minutes spent, and the program assumes that 10 calories are burned per minute."
      ],
      "metadata": {
        "id": "Q9JP3k1Z-VhM"
      }
    },
    {
      "cell_type": "code",
      "source": [
        "calories_per_minute = 10  # Calories burned per minute\n",
        "\n",
        "# Input time spent on 3 exercises\n",
        "exercise1 = int(input(\"Enter time spent on Exercise 1 (minutes): \"))\n",
        "exercise2 = int(input(\"Enter time spent on Exercise 2 (minutes): \"))\n",
        "exercise3 = int(input(\"Enter time spent on Exercise 3 (minutes): \"))\n",
        "\n",
        "# Calculate total calories burned\n",
        "total_calories = (exercise1 + exercise2 + exercise3) * calories_per_minute\n",
        "\n",
        "# Display result\n",
        "print(f\"\\nYou burned a total of {total_calories} calories today!\")"
      ],
      "metadata": {
        "colab": {
          "base_uri": "https://localhost:8080/"
        },
        "id": "eFfPoCdtQRgx",
        "outputId": "bcf1eaba-4537-439f-ef85-8ea01fb507b7"
      },
      "execution_count": 1,
      "outputs": [
        {
          "output_type": "stream",
          "name": "stdout",
          "text": [
            "Enter time spent on Exercise 1 (minutes): 25\n",
            "Enter time spent on Exercise 2 (minutes): 10\n",
            "Enter time spent on Exercise 3 (minutes): 15\n",
            "\n",
            "You burned a total of 500 calories today!\n"
          ]
        }
      ]
    },
    {
      "cell_type": "code",
      "source": [],
      "metadata": {
        "id": "Vo0asm2RQSJ-"
      },
      "execution_count": null,
      "outputs": []
    }
  ]
}