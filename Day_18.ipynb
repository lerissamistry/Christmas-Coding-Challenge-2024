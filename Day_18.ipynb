{
  "nbformat": 4,
  "nbformat_minor": 0,
  "metadata": {
    "colab": {
      "provenance": [],
      "authorship_tag": "ABX9TyOT3Axna2nPwcyhhQ6hrWJQ",
      "include_colab_link": true
    },
    "kernelspec": {
      "name": "python3",
      "display_name": "Python 3"
    },
    "language_info": {
      "name": "python"
    }
  },
  "cells": [
    {
      "cell_type": "markdown",
      "metadata": {
        "id": "view-in-github",
        "colab_type": "text"
      },
      "source": [
        "<a href=\"https://colab.research.google.com/github/lerissamistry/Christmas-Coding-Challenge-2024/blob/main/Day_18.ipynb\" target=\"_parent\"><img src=\"https://colab.research.google.com/assets/colab-badge.svg\" alt=\"Open In Colab\"/></a>"
      ]
    },
    {
      "cell_type": "markdown",
      "source": [
        "**Problem: Step Tracker**\n",
        "\n",
        "Write a program that calculates the average steps per day for 3 days. The user enters their step count for each day, and the program tells them if they hit the 10,000-step goal on average.\n",
        "\n"
      ],
      "metadata": {
        "id": "Q9JP3k1Z-VhM"
      }
    },
    {
      "cell_type": "code",
      "source": [
        "goal = 10000  # Daily step goal\n",
        "\n",
        "# Input step count for 3 days\n",
        "day1 = int(input(\"Enter steps for Day 1: \"))\n",
        "day2 = int(input(\"Enter steps for Day 2: \"))\n",
        "day3 = int(input(\"Enter steps for Day 3: \"))\n",
        "\n",
        "# Calculate average steps\n",
        "average_steps = (day1 + day2 + day3) / 3\n",
        "\n",
        "# Display result\n",
        "print(f\"\\nYour average steps per day: {average_steps:.2f}\")\n",
        "print(\"Great job! You hit the step goal on average.\" if average_steps >= goal else \"Keep going! You're below the step goal.\")"
      ],
      "metadata": {
        "colab": {
          "base_uri": "https://localhost:8080/"
        },
        "id": "eFfPoCdtQRgx",
        "outputId": "b8f7e37d-712a-4f91-86bf-f9d01e580583"
      },
      "execution_count": 2,
      "outputs": [
        {
          "output_type": "stream",
          "name": "stdout",
          "text": [
            "Enter steps for Day 1: 2003\n",
            "Enter steps for Day 2: 3223\n",
            "Enter steps for Day 3: 2332\n",
            "\n",
            "Your average steps per day: 2519.33\n",
            "Keep going! You're below the step goal.\n"
          ]
        }
      ]
    },
    {
      "cell_type": "code",
      "source": [],
      "metadata": {
        "id": "Vo0asm2RQSJ-"
      },
      "execution_count": null,
      "outputs": []
    }
  ]
}