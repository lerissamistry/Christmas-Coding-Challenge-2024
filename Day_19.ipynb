{
  "nbformat": 4,
  "nbformat_minor": 0,
  "metadata": {
    "colab": {
      "provenance": [],
      "authorship_tag": "ABX9TyO6zubqe8TrV/6jFxA2vc3i",
      "include_colab_link": true
    },
    "kernelspec": {
      "name": "python3",
      "display_name": "Python 3"
    },
    "language_info": {
      "name": "python"
    }
  },
  "cells": [
    {
      "cell_type": "markdown",
      "metadata": {
        "id": "view-in-github",
        "colab_type": "text"
      },
      "source": [
        "<a href=\"https://colab.research.google.com/github/lerissamistry/Christmas-Coding-Challenge-2024/blob/main/Day_19.ipynb\" target=\"_parent\"><img src=\"https://colab.research.google.com/assets/colab-badge.svg\" alt=\"Open In Colab\"/></a>"
      ]
    },
    {
      "cell_type": "markdown",
      "source": [
        "**Problem: Distance Tracker**\n",
        "\n",
        "Write a program that asks the user for the distance (in kilometers) they ran on 3 different days. Calculate the total distance and tell the user if they achieved their weekly running goal of 15 kilometers.\n",
        "\n"
      ],
      "metadata": {
        "id": "Q9JP3k1Z-VhM"
      }
    },
    {
      "cell_type": "code",
      "source": [
        "weekly_goal = 15  # Weekly running goal in kilometers\n",
        "\n",
        "# Input distances for 3 days\n",
        "day1 = float(input(\"Enter distance for Day 1 (km): \"))\n",
        "day2 = float(input(\"Enter distance for Day 2 (km): \"))\n",
        "day3 = float(input(\"Enter distance for Day 3 (km): \"))\n",
        "\n",
        "# Calculate total distance\n",
        "total_distance = day1 + day2 + day3\n",
        "\n",
        "# Display result\n",
        "print(f\"\\nYou ran a total of {total_distance:.2f} km this week.\")\n",
        "print(\"Great job! You met your weekly running goal.\" if total_distance >= weekly_goal else f\"You need {weekly_goal - total_distance:.2f} more km to reach your goal.\")"
      ],
      "metadata": {
        "id": "Vo0asm2RQSJ-",
        "colab": {
          "base_uri": "https://localhost:8080/"
        },
        "outputId": "c57eb0c8-a33e-4f44-ebad-6c1a23e60346"
      },
      "execution_count": 1,
      "outputs": [
        {
          "output_type": "stream",
          "name": "stdout",
          "text": [
            "Enter distance for Day 1 (km): 20\n",
            "Enter distance for Day 2 (km): 5\n",
            "Enter distance for Day 3 (km): 4\n",
            "\n",
            "You ran a total of 29.00 km this week.\n",
            "Great job! You met your weekly running goal.\n"
          ]
        }
      ]
    },
    {
      "cell_type": "code",
      "source": [],
      "metadata": {
        "id": "DsDMW0tML0L0"
      },
      "execution_count": null,
      "outputs": []
    }
  ]
}