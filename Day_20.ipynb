{
  "nbformat": 4,
  "nbformat_minor": 0,
  "metadata": {
    "colab": {
      "provenance": [],
      "authorship_tag": "ABX9TyMT11D4rkB8CRmEVsuIJPnk",
      "include_colab_link": true
    },
    "kernelspec": {
      "name": "python3",
      "display_name": "Python 3"
    },
    "language_info": {
      "name": "python"
    }
  },
  "cells": [
    {
      "cell_type": "markdown",
      "metadata": {
        "id": "view-in-github",
        "colab_type": "text"
      },
      "source": [
        "<a href=\"https://colab.research.google.com/github/lerissamistry/Christmas-Coding-Challenge-2024/blob/main/Day_20.ipynb\" target=\"_parent\"><img src=\"https://colab.research.google.com/assets/colab-badge.svg\" alt=\"Open In Colab\"/></a>"
      ]
    },
    {
      "cell_type": "markdown",
      "source": [
        "**Problem: Calories Tracker**\n",
        "\n",
        "Write a program that tracks the calories consumed over a week. The user will input their calorie intake for each day, and the program should:\n",
        "\n",
        "Calculate the total calories consumed for the week.\n",
        "Calculate the average daily calorie intake.\n",
        "Display the days where calorie intake exceeded 2,000 (the recommended daily intake).\n",
        "\n",
        "\n"
      ],
      "metadata": {
        "id": "Q9JP3k1Z-VhM"
      }
    },
    {
      "cell_type": "code",
      "source": [
        "# Function to calculate total and average calories\n",
        "def calculate_calories(calorie_list):\n",
        "    total = sum(calorie_list)\n",
        "    average = total / len(calorie_list)\n",
        "    return total, average\n",
        "\n",
        "# List to store calorie intake for 7 days\n",
        "calories = []\n",
        "\n",
        "# Input calories for each day\n",
        "print(\"Enter your calorie intake for each day of the week:\")\n",
        "for day in range(1, 8):\n",
        "    intake = int(input(f\"Day {day}: \"))\n",
        "    calories.append(intake)\n",
        "\n",
        "# Calculate total and average using the function\n",
        "total_calories, average_calories = calculate_calories(calories)\n",
        "\n",
        "# Display the results\n",
        "print(f\"\\nTotal calories consumed this week: {total_calories}\")\n",
        "print(f\"Average daily calorie intake: {average_calories:.2f}\")"
      ],
      "metadata": {
        "id": "DsDMW0tML0L0",
        "colab": {
          "base_uri": "https://localhost:8080/"
        },
        "outputId": "ce58de37-5cc8-4f8c-e71a-6ab7edaac365"
      },
      "execution_count": 1,
      "outputs": [
        {
          "output_type": "stream",
          "name": "stdout",
          "text": [
            "Enter your calorie intake for each day of the week:\n",
            "Day 1: 30\n",
            "Day 2: 1002\n",
            "Day 3: 1234\n",
            "Day 4: 1230\n",
            "Day 5: 1400\n",
            "Day 6: 1300\n",
            "Day 7: 1600\n",
            "\n",
            "Total calories consumed this week: 7796\n",
            "Average daily calorie intake: 1113.71\n"
          ]
        }
      ]
    },
    {
      "cell_type": "code",
      "source": [
        "# Identify days exceeding 2,000 calories\n",
        "high_calorie_days = [i + 1 for i, cal in enumerate(calories) if cal > 2000]\n",
        "if high_calorie_days:\n",
        "    print(f\"Days exceeding 2,000 calories: {', '.join(map(str, high_calorie_days))}\")\n",
        "else:\n",
        "    print(\"Great job! No days exceeded 2,000 calories.\")"
      ],
      "metadata": {
        "colab": {
          "base_uri": "https://localhost:8080/"
        },
        "id": "pL2J5x5WIb3R",
        "outputId": "cdbe43d3-060b-42dd-fd83-0e59467f7eda"
      },
      "execution_count": 4,
      "outputs": [
        {
          "output_type": "stream",
          "name": "stdout",
          "text": [
            "Great job! No days exceeded 2,000 calories.\n"
          ]
        }
      ]
    },
    {
      "cell_type": "code",
      "source": [],
      "metadata": {
        "id": "FW_L4yZoIhtO"
      },
      "execution_count": null,
      "outputs": []
    }
  ]
}