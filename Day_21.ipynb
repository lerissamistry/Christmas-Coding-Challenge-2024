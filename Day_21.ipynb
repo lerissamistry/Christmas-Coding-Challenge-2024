{
  "nbformat": 4,
  "nbformat_minor": 0,
  "metadata": {
    "colab": {
      "provenance": [],
      "authorship_tag": "ABX9TyMsaelw6wfLXYLxQvf10e5+",
      "include_colab_link": true
    },
    "kernelspec": {
      "name": "python3",
      "display_name": "Python 3"
    },
    "language_info": {
      "name": "python"
    }
  },
  "cells": [
    {
      "cell_type": "markdown",
      "metadata": {
        "id": "view-in-github",
        "colab_type": "text"
      },
      "source": [
        "<a href=\"https://colab.research.google.com/github/lerissamistry/Christmas-Coding-Challenge-2024/blob/main/Day_21.ipynb\" target=\"_parent\"><img src=\"https://colab.research.google.com/assets/colab-badge.svg\" alt=\"Open In Colab\"/></a>"
      ]
    },
    {
      "cell_type": "markdown",
      "source": [
        "**Problem: Favorite fitness activities**\n",
        "\n",
        "Write a program that asks the user for their favorite fitness activities and their reasons for liking them.\n",
        "\n",
        "The user can enter up to 3 activities.\n",
        "Store the activities and reasons in a list of strings.\n",
        "Display all the activities and reasons in a neatly formatted way.\n",
        "\n"
      ],
      "metadata": {
        "id": "Q9JP3k1Z-VhM"
      }
    },
    {
      "cell_type": "code",
      "source": [
        "# List to store activities and reasons\n",
        "activities = []\n",
        "\n",
        "# Collect up to 3 activities and reasons\n",
        "print(\"Tell me your favorite fitness activities and why you like them!\")\n",
        "for i in range(3):\n",
        "    activity = input(f\"Enter activity {i + 1} (or press Enter to stop): \").strip()\n",
        "    if not activity:  # Stop if the user presses Enter without input\n",
        "        break\n",
        "    reason = input(f\"Why do you like {activity}? \").strip()\n",
        "    activities.append(f\"{activity}: {reason}\")\n",
        "\n",
        "# Display the activities and reasons\n",
        "print(\"\\nYour Favorite Fitness Activities:\")\n",
        "for item in activities:\n",
        "    print(f\"- {item}\")"
      ],
      "metadata": {
        "colab": {
          "base_uri": "https://localhost:8080/"
        },
        "id": "QrbG2zpfKpAo",
        "outputId": "60e577aa-5923-4acb-d365-818e42428992"
      },
      "execution_count": 7,
      "outputs": [
        {
          "output_type": "stream",
          "name": "stdout",
          "text": [
            "Tell me your favorite fitness activities and why you like them!\n",
            "Enter activity 1 (or press Enter to stop): Crossfit\n",
            "Why do you like Crossfit? Group exercise is fun\n",
            "Enter activity 2 (or press Enter to stop): Running\n",
            "Why do you like Running? Beating my PB feels great\n",
            "Enter activity 3 (or press Enter to stop): \n",
            "\n",
            "Your Favorite Fitness Activities:\n",
            "- Crossfit: Group exercise is fun\n",
            "- Running: Beating my PB feels great\n"
          ]
        }
      ]
    },
    {
      "cell_type": "code",
      "source": [],
      "metadata": {
        "id": "baDVOvomLIYu"
      },
      "execution_count": null,
      "outputs": []
    }
  ]
}