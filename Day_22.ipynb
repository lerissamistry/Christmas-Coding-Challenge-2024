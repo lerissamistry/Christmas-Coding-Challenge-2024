{
  "nbformat": 4,
  "nbformat_minor": 0,
  "metadata": {
    "colab": {
      "provenance": [],
      "authorship_tag": "ABX9TyP6mf2xX1jthzFCIiKnv1Gz",
      "include_colab_link": true
    },
    "kernelspec": {
      "name": "python3",
      "display_name": "Python 3"
    },
    "language_info": {
      "name": "python"
    }
  },
  "cells": [
    {
      "cell_type": "markdown",
      "metadata": {
        "id": "view-in-github",
        "colab_type": "text"
      },
      "source": [
        "<a href=\"https://colab.research.google.com/github/lerissamistry/Christmas-Coding-Challenge-2024/blob/main/Day_22.ipynb\" target=\"_parent\"><img src=\"https://colab.research.google.com/assets/colab-badge.svg\" alt=\"Open In Colab\"/></a>"
      ]
    },
    {
      "cell_type": "markdown",
      "source": [
        "**Problem: Fitness Tracker**\n",
        "\n",
        "Write a program that asks the user for their favorite fitness activities and their reasons for liking them.\n",
        "\n",
        "The user can enter up to 3 activities.\n",
        "Store the activities and reasons in a list of strings.\n",
        "Display all the activities and reasons in a neatly formatted way.\n",
        "\n"
      ],
      "metadata": {
        "id": "Q9JP3k1Z-VhM"
      }
    },
    {
      "cell_type": "code",
      "source": [
        "# Input starting and current counts for each exercise\n",
        "pushups = (int(input(\"Enter your starting push-up count: \")), int(input(\"Enter your current push-up count: \")))\n",
        "situps = (int(input(\"Enter your starting sit-up count: \")), int(input(\"Enter your current sit-up count: \")))\n",
        "squats = (int(input(\"Enter your starting squat count: \")), int(input(\"Enter your current squat count: \")))\n",
        "\n",
        "# Calculate improvements\n",
        "pushup_improvement = pushups[1] - pushups[0]\n",
        "situp_improvement = situps[1] - situps[0]\n",
        "squat_improvement = squats[1] - squats[0]\n",
        "\n",
        "# Determine the exercise with the most improvement\n",
        "improvements = {\"Push-ups\": pushup_improvement, \"Sit-ups\": situp_improvement, \"Squats\": squat_improvement}\n",
        "most_improved = max(improvements, key=improvements.get)\n",
        "\n",
        "# Display results\n",
        "print(f\"\\nImprovement Summary:\")\n",
        "print(f\"Push-ups: {pushup_improvement} more\")\n",
        "print(f\"Sit-ups: {situp_improvement} more\")\n",
        "print(f\"Squats: {squat_improvement} more\")\n",
        "print(f\"\\nMost improved exercise: {most_improved}\")\n"
      ],
      "metadata": {
        "id": "baDVOvomLIYu",
        "colab": {
          "base_uri": "https://localhost:8080/"
        },
        "outputId": "9a02b4b9-a8c8-4da2-d196-63b849a9978e"
      },
      "execution_count": 1,
      "outputs": [
        {
          "output_type": "stream",
          "name": "stdout",
          "text": [
            "Enter your starting push-up count: 7\n",
            "Enter your current push-up count: 10\n",
            "Enter your starting sit-up count: 13\n",
            "Enter your current sit-up count: 12\n",
            "Enter your starting squat count: 10\n",
            "Enter your current squat count: 10\n",
            "\n",
            "Improvement Summary:\n",
            "Push-ups: 3 more\n",
            "Sit-ups: -1 more\n",
            "Squats: 0 more\n",
            "\n",
            "Most improved exercise: Push-ups\n"
          ]
        }
      ]
    },
    {
      "cell_type": "code",
      "source": [],
      "metadata": {
        "id": "xkVNtmFXT-VF"
      },
      "execution_count": null,
      "outputs": []
    }
  ]
}