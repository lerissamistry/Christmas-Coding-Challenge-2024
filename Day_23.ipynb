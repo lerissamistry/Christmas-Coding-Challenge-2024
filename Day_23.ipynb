{
  "nbformat": 4,
  "nbformat_minor": 0,
  "metadata": {
    "colab": {
      "provenance": [],
      "authorship_tag": "ABX9TyPa1yfwBoCIB9vjtmqgT2HL",
      "include_colab_link": true
    },
    "kernelspec": {
      "name": "python3",
      "display_name": "Python 3"
    },
    "language_info": {
      "name": "python"
    }
  },
  "cells": [
    {
      "cell_type": "markdown",
      "metadata": {
        "id": "view-in-github",
        "colab_type": "text"
      },
      "source": [
        "<a href=\"https://colab.research.google.com/github/lerissamistry/Christmas-Coding-Challenge-2024/blob/main/Day_23.ipynb\" target=\"_parent\"><img src=\"https://colab.research.google.com/assets/colab-badge.svg\" alt=\"Open In Colab\"/></a>"
      ]
    },
    {
      "cell_type": "markdown",
      "source": [
        "**Problem: BMI Calculator**\n",
        "\n",
        "Write a program that calculates the Body Mass Index (BMI) and determines if the user is underweight, normal weight, overweight, or obese."
      ],
      "metadata": {
        "id": "Q9JP3k1Z-VhM"
      }
    },
    {
      "cell_type": "code",
      "source": [
        "# Input weight and height\n",
        "weight = float(input(\"Enter your weight in kilograms: \"))\n",
        "height = float(input(\"Enter your height in meters: \"))\n",
        "\n",
        "# Calculate BMI\n",
        "bmi = weight / (height ** 2)\n",
        "\n",
        "# Determine BMI category\n",
        "if bmi < 18.5:\n",
        "    category = \"Underweight\"\n",
        "elif 18.5 <= bmi < 24.9:\n",
        "    category = \"Normal weight\"\n",
        "elif 25 <= bmi < 29.9:\n",
        "    category = \"Overweight\"\n",
        "else:\n",
        "    category = \"Obese\"\n",
        "\n",
        "# Display the result\n",
        "print(f\"\\nYour BMI is {bmi:.2f}. You are classified as {category}.\")"
      ],
      "metadata": {
        "id": "xkVNtmFXT-VF",
        "colab": {
          "base_uri": "https://localhost:8080/"
        },
        "outputId": "b5b7398c-ff9a-4386-92c6-121ad7249742"
      },
      "execution_count": 1,
      "outputs": [
        {
          "output_type": "stream",
          "name": "stdout",
          "text": [
            "Enter your weight in kilograms: 52\n",
            "Enter your height in meters: 1.67\n",
            "\n",
            "Your BMI is 18.65. You are classified as Normal weight.\n"
          ]
        }
      ]
    },
    {
      "cell_type": "code",
      "source": [],
      "metadata": {
        "id": "Sutx27rYHg2u"
      },
      "execution_count": null,
      "outputs": []
    }
  ]
}