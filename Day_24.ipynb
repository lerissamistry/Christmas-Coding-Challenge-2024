{
  "nbformat": 4,
  "nbformat_minor": 0,
  "metadata": {
    "colab": {
      "provenance": [],
      "authorship_tag": "ABX9TyNElg7SI160676crHxQh8Am",
      "include_colab_link": true
    },
    "kernelspec": {
      "name": "python3",
      "display_name": "Python 3"
    },
    "language_info": {
      "name": "python"
    }
  },
  "cells": [
    {
      "cell_type": "markdown",
      "metadata": {
        "id": "view-in-github",
        "colab_type": "text"
      },
      "source": [
        "<a href=\"https://colab.research.google.com/github/lerissamistry/Christmas-Coding-Challenge-2024/blob/main/Day_24.ipynb\" target=\"_parent\"><img src=\"https://colab.research.google.com/assets/colab-badge.svg\" alt=\"Open In Colab\"/></a>"
      ]
    },
    {
      "cell_type": "markdown",
      "source": [
        "**Problem: Calorie Calculator**\n",
        "\n",
        "Write a program to track the calories consumed during three meals in a day.\n",
        "\n",
        "Ask the user for the meal name and the calories for each meal.\n",
        "Store the data in a dictionary.\n",
        "Calculate and display the total calories consumed for the day."
      ],
      "metadata": {
        "id": "Q9JP3k1Z-VhM"
      }
    },
    {
      "cell_type": "code",
      "source": [
        "# Dictionary to store meal and calorie data\n",
        "calorie_log = {}\n",
        "\n",
        "# Input meals and their calories\n",
        "print(\"Enter the calories for your meals:\")\n",
        "for i in range(3):\n",
        "    meal = input(f\"Enter meal {i + 1} name: \").strip()\n",
        "    calories = int(input(f\"Enter calories for {meal}: \"))\n",
        "    calorie_log[meal] = calories\n",
        "\n",
        "# Calculate total calories\n",
        "total_calories = sum(calorie_log.values())\n",
        "\n",
        "# Display results\n",
        "print(\"\\nCalories Consumed Today:\")\n",
        "for meal, cal in calorie_log.items():\n",
        "    print(f\"{meal}: {cal} calories\")\n",
        "print(f\"Total Calories: {total_calories}\")\n"
      ],
      "metadata": {
        "id": "Sutx27rYHg2u",
        "colab": {
          "base_uri": "https://localhost:8080/"
        },
        "outputId": "38acd949-7d6d-4386-e310-d04b2bd951d3"
      },
      "execution_count": 1,
      "outputs": [
        {
          "output_type": "stream",
          "name": "stdout",
          "text": [
            "Enter the calories for your meals:\n",
            "Enter meal 1 name: Eggs and Rye bread\n",
            "Enter calories for Eggs and Rye bread: 200\n",
            "Enter meal 2 name: Fruit and Yoghurt\n",
            "Enter calories for Fruit and Yoghurt: 250\n",
            "Enter meal 3 name: Pad Thai\n",
            "Enter calories for Pad Thai: 700\n",
            "\n",
            "Calories Consumed Today:\n",
            "Eggs and Rye bread: 200 calories\n",
            "Fruit and Yoghurt: 250 calories\n",
            "Pad Thai: 700 calories\n",
            "Total Calories: 1150\n"
          ]
        }
      ]
    }
  ]
}