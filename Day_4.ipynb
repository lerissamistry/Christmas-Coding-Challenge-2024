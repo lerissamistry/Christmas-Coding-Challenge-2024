{
  "cells": [
    {
      "cell_type": "markdown",
      "metadata": {
        "id": "view-in-github",
        "colab_type": "text"
      },
      "source": [
        "<a href=\"https://colab.research.google.com/github/lerissamistry/Christmas-Coding-Challenge-2024/blob/main/Day_4.ipynb\" target=\"_parent\"><img src=\"https://colab.research.google.com/assets/colab-badge.svg\" alt=\"Open In Colab\"/></a>"
      ]
    },
    {
      "cell_type": "markdown",
      "source": [
        "**Problem: Step Tracker**\n",
        "\n",
        "You are building a simple program to analyze step data collected from your fitness tracker. Given a list of steps taken each day for a week, write a function to:\n",
        "\n",
        "Calculate the total steps taken during the week.\n",
        "Identify the day with the maximum steps.\n",
        "Check if the user met the daily goal of 10,000 steps on at least 4 days.\n",
        "\n",
        "Input:\n",
        "A list of 7 integers where each integer represents the steps taken for a day, e.g.,\n",
        "[8000, 10500, 9500, 11000, 12000, 7000, 8500]\n",
        "\n",
        "Output:\n",
        "The function should return a dictionary with:\n",
        "\n",
        "\"total_steps\": Total steps taken during the week.\n",
        "\"max_day\": Index (0-6) of the day with the maximum steps.\n",
        "\"met_goal_days\": True if the user met the 10,000 steps goal on at least 4 days, False otherwise."
      ],
      "metadata": {
        "id": "uPokuiAGn0K_"
      }
    },
    {
      "cell_type": "code",
      "source": [
        "import pandas as pd\n",
        "import numpy as np\n",
        "from datetime import datetime, timedelta"
      ],
      "metadata": {
        "id": "4TUxap14ngPd"
      },
      "execution_count": 1,
      "outputs": []
    },
    {
      "cell_type": "code",
      "source": [
        "def analyse_steps(steps):\n",
        "    # Calculate total steps\n",
        "    total_steps = sum(steps)\n",
        "\n",
        "    # Find the day with the maximum steps\n",
        "    max_day = steps.index(max(steps))\n",
        "\n",
        "    # Count the days the user met the goal of 10,000 steps\n",
        "    met_goal_days = sum(1 for step in steps if step >= 10000) >= 4\n",
        "\n",
        "    # Return the results as a dictionary\n",
        "    return {\n",
        "        \"total_steps\": total_steps,\n",
        "        \"max_day\": max_day,\n",
        "        \"met_goal_days\": met_goal_days\n",
        "    }"
      ],
      "metadata": {
        "id": "8tQRCb_gogGI"
      },
      "execution_count": 2,
      "outputs": []
    },
    {
      "cell_type": "code",
      "source": [
        "steps = [8000, 10500, 9500, 11000, 12000, 7000, 8500]\n",
        "\n",
        "result = analyse_steps(steps)\n",
        "print(result)"
      ],
      "metadata": {
        "colab": {
          "base_uri": "https://localhost:8080/"
        },
        "id": "_vEX8sKEolgc",
        "outputId": "70cfef2c-f686-413e-d12a-3079d0bda019"
      },
      "execution_count": 3,
      "outputs": [
        {
          "output_type": "stream",
          "name": "stdout",
          "text": [
            "{'total_steps': 66500, 'max_day': 4, 'met_goal_days': False}\n"
          ]
        }
      ]
    }
  ],
  "metadata": {
    "colab": {
      "provenance": [],
      "include_colab_link": true
    },
    "kernelspec": {
      "display_name": "Python 3",
      "name": "python3"
    }
  },
  "nbformat": 4,
  "nbformat_minor": 0
}