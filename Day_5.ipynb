{
  "cells": [
    {
      "cell_type": "markdown",
      "metadata": {
        "id": "view-in-github",
        "colab_type": "text"
      },
      "source": [
        "<a href=\"https://colab.research.google.com/github/lerissamistry/Christmas-Coding-Challenge-2024/blob/main/Day_5.ipynb\" target=\"_parent\"><img src=\"https://colab.research.google.com/assets/colab-badge.svg\" alt=\"Open In Colab\"/></a>"
      ]
    },
    {
      "cell_type": "markdown",
      "source": [
        "**Problem: Calorie Tracker**\n",
        "\n",
        "You are creating a program to help track daily calorie intake. Given a dictionary where the keys are food items and the values are their respective calorie counts, and a list of foods eaten in a day, write a function to:\n",
        "\n",
        "Calculate the total calories consumed.\n",
        "Identify the most calorie-dense food consumed.\n",
        "Check if the user exceeded their daily calorie limit of 2000 calories.\n",
        "\n",
        "Output:\n",
        "The function should return a dictionary with:\n",
        "\n",
        "\"total_calories\": Total calories consumed.\n",
        "\"most_calorie_dense_food\": The food item with the highest calorie count consumed.\n",
        "\"exceeded_limit\": True if the user exceeded 2000 calories, False otherwise.\n"
      ],
      "metadata": {
        "id": "uPokuiAGn0K_"
      }
    },
    {
      "cell_type": "code",
      "source": [
        "import pandas as pd\n",
        "import numpy as np\n",
        "from datetime import datetime, timedelta"
      ],
      "metadata": {
        "id": "4TUxap14ngPd"
      },
      "execution_count": 1,
      "outputs": []
    },
    {
      "cell_type": "code",
      "source": [
        "# A dictionary of foods and their calorie counts, e.g.:\n",
        "food_calories = {\n",
        "    \"apple\": 95,\n",
        "    \"banana\": 105,\n",
        "    \"pizza\": 285,\n",
        "    \"salad\": 150,\n",
        "    \"chocolate\": 230\n",
        "}"
      ],
      "metadata": {
        "id": "KA5KwjkM5OLK"
      },
      "execution_count": 2,
      "outputs": []
    },
    {
      "cell_type": "code",
      "source": [
        "# A list of foods consumed during the day, e.g.:\n",
        "foods_eaten = [\"apple\", \"pizza\", \"chocolate\", \"banana\", \"pizza\"]"
      ],
      "metadata": {
        "id": "G2UM8h4L5SCm"
      },
      "execution_count": 3,
      "outputs": []
    },
    {
      "cell_type": "code",
      "source": [
        "def calorie_tracker(food_calories, foods_eaten):\n",
        "    # Calculate total calories consumed\n",
        "    total_calories = sum(food_calories[food] for food in foods_eaten)\n",
        "\n",
        "    # Identify the most calorie-dense food consumed\n",
        "    most_calorie_dense_food = max(foods_eaten, key=lambda food: food_calories[food])\n",
        "\n",
        "    # Check if the user exceeded the calorie limit of 2000\n",
        "    exceeded_limit = total_calories > 2000\n",
        "\n",
        "    # Return the results as a dictionary\n",
        "    return {\n",
        "        \"total_calories\": total_calories,\n",
        "        \"most_calorie_dense_food\": most_calorie_dense_food,\n",
        "        \"exceeded_limit\": exceeded_limit\n",
        "    }"
      ],
      "metadata": {
        "id": "UTxhuG5v5avn"
      },
      "execution_count": 4,
      "outputs": []
    },
    {
      "cell_type": "code",
      "source": [
        "result = calorie_tracker(food_calories, foods_eaten)\n",
        "print(result)"
      ],
      "metadata": {
        "colab": {
          "base_uri": "https://localhost:8080/"
        },
        "id": "W-RrlHdt5nWT",
        "outputId": "beeb27e7-aea2-4489-eace-b771183f6e3c"
      },
      "execution_count": 5,
      "outputs": [
        {
          "output_type": "stream",
          "name": "stdout",
          "text": [
            "{'total_calories': 1000, 'most_calorie_dense_food': 'pizza', 'exceeded_limit': False}\n"
          ]
        }
      ]
    },
    {
      "cell_type": "code",
      "source": [],
      "metadata": {
        "id": "9dUN1bUF5vFQ"
      },
      "execution_count": null,
      "outputs": []
    }
  ],
  "metadata": {
    "colab": {
      "provenance": [],
      "include_colab_link": true
    },
    "kernelspec": {
      "display_name": "Python 3",
      "name": "python3"
    }
  },
  "nbformat": 4,
  "nbformat_minor": 0
}