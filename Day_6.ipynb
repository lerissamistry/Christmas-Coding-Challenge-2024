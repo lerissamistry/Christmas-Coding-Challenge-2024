{
  "nbformat": 4,
  "nbformat_minor": 0,
  "metadata": {
    "colab": {
      "provenance": [],
      "authorship_tag": "ABX9TyMqww+ZgMo4szTR+hztUKvk",
      "include_colab_link": true
    },
    "kernelspec": {
      "name": "python3",
      "display_name": "Python 3"
    },
    "language_info": {
      "name": "python"
    }
  },
  "cells": [
    {
      "cell_type": "markdown",
      "metadata": {
        "id": "view-in-github",
        "colab_type": "text"
      },
      "source": [
        "<a href=\"https://colab.research.google.com/github/lerissamistry/Christmas-Coding-Challenge-2024/blob/main/Day_6.ipynb\" target=\"_parent\"><img src=\"https://colab.research.google.com/assets/colab-badge.svg\" alt=\"Open In Colab\"/></a>"
      ]
    },
    {
      "cell_type": "markdown",
      "source": [
        "**Problem: Workout Progress Tracker**\n",
        "\n",
        "You are tracking your daily workouts for a week. Write a program that:\n",
        "\n",
        "Takes a list of daily workout durations (in minutes) for 7 days, e.g., [30, 45, 60, 20, 50, 25, 35].\n",
        "Calculates the total time spent working out.\n",
        "Identifies the days where the workout duration was below 30 minutes.\n",
        "Prints a motivational message for every day based on the duration:\n",
        "Less than 30 minutes: \"You can do better!\"\n",
        "Between 30 and 60 minutes: \"Great job today!\"\n",
        "More than 60 minutes: \"Amazing effort!\"\n",
        "\n",
        "Input:\n",
        "A list of 7 integers where each integer represents the workout duration in minutes, e.g.,\n",
        "[30, 45, 60, 20, 50, 25, 35]\n",
        "\n",
        "Output:\n",
        "Total workout duration for the week.\n",
        "List of days (0-6) where the workout was below 30 minutes.\n",
        "Daily motivational messages based on the duration."
      ],
      "metadata": {
        "id": "Q9JP3k1Z-VhM"
      }
    },
    {
      "cell_type": "code",
      "source": [
        "def workout_tracker(workout_durations):\n",
        "    total_time = 0  # To calculate total workout duration\n",
        "    below_30_minutes = []  # To track days with less than 30 minutes\n",
        "\n",
        "    # Iterate through the workout durations using a for loop\n",
        "    for day, duration in enumerate(workout_durations):\n",
        "        total_time += duration  # Add to total workout time\n",
        "\n",
        "        # Check if the workout was below 30 minutes\n",
        "        if duration < 30:\n",
        "            below_30_minutes.append(day)\n",
        "\n",
        "        # Print motivational messages\n",
        "        if duration < 30:\n",
        "            message = \"You can do better!\"\n",
        "        elif 30 <= duration <= 60:\n",
        "            message = \"Great job today!\"\n",
        "        else:\n",
        "            message = \"Amazing effort!\"\n",
        "\n",
        "        print(f\"Day {day + 1}: {message}\")\n",
        "\n",
        "    # Print summary\n",
        "    print(f\"Total workout time: {total_time} minutes\")\n",
        "    print(f\"Days with less than 30 minutes of workout: {below_30_minutes}\")"
      ],
      "metadata": {
        "id": "hk72Obq--ScM"
      },
      "execution_count": 2,
      "outputs": []
    },
    {
      "cell_type": "code",
      "source": [
        "# Input\n",
        "workout_durations = [30, 45, 60, 20, 50, 25, 35]\n",
        "\n",
        "# Call the function\n",
        "workout_tracker(workout_durations)"
      ],
      "metadata": {
        "colab": {
          "base_uri": "https://localhost:8080/"
        },
        "id": "b4OCTMvv-qVK",
        "outputId": "1edc3584-4584-4ddc-825a-5d0f5a7727bf"
      },
      "execution_count": 3,
      "outputs": [
        {
          "output_type": "stream",
          "name": "stdout",
          "text": [
            "Day 1: Great job today!\n",
            "Day 2: Great job today!\n",
            "Day 3: Great job today!\n",
            "Day 4: You can do better!\n",
            "Day 5: Great job today!\n",
            "Day 6: You can do better!\n",
            "Day 7: Great job today!\n",
            "Total workout time: 265 minutes\n",
            "Days with less than 30 minutes of workout: [3, 5]\n"
          ]
        }
      ]
    },
    {
      "cell_type": "code",
      "source": [],
      "metadata": {
        "id": "y7iqNqzg-tuI"
      },
      "execution_count": null,
      "outputs": []
    }
  ]
}