{
  "nbformat": 4,
  "nbformat_minor": 0,
  "metadata": {
    "colab": {
      "provenance": [],
      "authorship_tag": "ABX9TyMlTRsmqLJixF593y8Sy0Cl",
      "include_colab_link": true
    },
    "kernelspec": {
      "name": "python3",
      "display_name": "Python 3"
    },
    "language_info": {
      "name": "python"
    }
  },
  "cells": [
    {
      "cell_type": "markdown",
      "metadata": {
        "id": "view-in-github",
        "colab_type": "text"
      },
      "source": [
        "<a href=\"https://colab.research.google.com/github/lerissamistry/Christmas-Coding-Challenge-2024/blob/main/Day_7.ipynb\" target=\"_parent\"><img src=\"https://colab.research.google.com/assets/colab-badge.svg\" alt=\"Open In Colab\"/></a>"
      ]
    },
    {
      "cell_type": "markdown",
      "source": [
        "**Problem: Fitness Class Attendance Tracker**\n",
        "\n",
        "You are managing attendance for a fitness studio that runs classes every day of the week. Write a program to:\n",
        "\n",
        "Take a 2D list where each sublist represents the attendance for a class on a specific day.\n",
        "\n",
        "Calculate and print the total attendance for each class over the week.\n",
        "\n",
        "Identify the day with the highest attendance for any single class.\n",
        "\n",
        "Print daily summaries of attendance in the format:\n",
        "\"Monday: Yoga: 10, Pilates: 12, Zumba: 8\""
      ],
      "metadata": {
        "id": "Q9JP3k1Z-VhM"
      }
    },
    {
      "cell_type": "code",
      "source": [
        "def attendance_tracker(attendance):\n",
        "    days = [\"Monday\", \"Tuesday\", \"Wednesday\", \"Thursday\", \"Friday\", \"Saturday\", \"Sunday\"]\n",
        "    classes = [\"Yoga\", \"Pilates\", \"Zumba\"]\n",
        "\n",
        "    # Initialize totals for each class\n",
        "    total_attendance = [0, 0, 0]\n",
        "    highest_attendance = 0\n",
        "    highest_day = \"\"\n",
        "    highest_class = \"\"\n",
        "\n",
        "    # Process attendance\n",
        "    for day_index, day_attendance in enumerate(attendance):\n",
        "        day_summary = f\"{days[day_index]}: \"\n",
        "        for class_index, count in enumerate(day_attendance):\n",
        "            # Add to total attendance for each class\n",
        "            total_attendance[class_index] += count\n",
        "\n",
        "            # Check for highest attendance\n",
        "            if count > highest_attendance:\n",
        "                highest_attendance = count\n",
        "                highest_day = days[day_index]\n",
        "                highest_class = classes[class_index]\n",
        "\n",
        "            # Add to daily summary\n",
        "            day_summary += f\"{classes[class_index]}: {count}, \"\n",
        "        print(day_summary.rstrip(\", \"))\n",
        "\n",
        "    # Print total weekly attendance\n",
        "    print(f\"Total weekly attendance: {classes[0]}: {total_attendance[0]}, \"\n",
        "          f\"{classes[1]}: {total_attendance[1]}, \"\n",
        "          f\"{classes[2]}: {total_attendance[2]}\")\n",
        "\n",
        "    # Print day with highest attendance\n",
        "    print(f\"Day with the highest attendance: {highest_day} \"\n",
        "          f\"(Class: {highest_class}, Attendance: {highest_attendance})\")\n"
      ],
      "metadata": {
        "id": "y7iqNqzg-tuI"
      },
      "execution_count": 2,
      "outputs": []
    },
    {
      "cell_type": "code",
      "source": [
        "# Example input\n",
        "attendance = [\n",
        "    [10, 12, 8],\n",
        "    [15, 9, 11],\n",
        "    [14, 10, 13],\n",
        "    [12, 7, 10],\n",
        "    [18, 15, 20],\n",
        "    [22, 19, 25],\n",
        "    [16, 14, 18]\n",
        "]"
      ],
      "metadata": {
        "id": "7Q25W3aMALDN"
      },
      "execution_count": 3,
      "outputs": []
    },
    {
      "cell_type": "code",
      "source": [
        "# Call the function\n",
        "attendance_tracker(attendance)"
      ],
      "metadata": {
        "colab": {
          "base_uri": "https://localhost:8080/"
        },
        "id": "kC6d9w9fAYss",
        "outputId": "6bbf3c29-89b3-42b5-c650-9d443aa4e657"
      },
      "execution_count": 4,
      "outputs": [
        {
          "output_type": "stream",
          "name": "stdout",
          "text": [
            "Monday: Yoga: 10, Pilates: 12, Zumba: 8\n",
            "Tuesday: Yoga: 15, Pilates: 9, Zumba: 11\n",
            "Wednesday: Yoga: 14, Pilates: 10, Zumba: 13\n",
            "Thursday: Yoga: 12, Pilates: 7, Zumba: 10\n",
            "Friday: Yoga: 18, Pilates: 15, Zumba: 20\n",
            "Saturday: Yoga: 22, Pilates: 19, Zumba: 25\n",
            "Sunday: Yoga: 16, Pilates: 14, Zumba: 18\n",
            "Total weekly attendance: Yoga: 107, Pilates: 86, Zumba: 105\n",
            "Day with the highest attendance: Saturday (Class: Zumba, Attendance: 25)\n"
          ]
        }
      ]
    },
    {
      "cell_type": "code",
      "source": [],
      "metadata": {
        "id": "dsHF8zTXAazl"
      },
      "execution_count": null,
      "outputs": []
    }
  ]
}