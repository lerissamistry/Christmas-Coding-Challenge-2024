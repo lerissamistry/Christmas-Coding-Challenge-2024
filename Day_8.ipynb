{
  "nbformat": 4,
  "nbformat_minor": 0,
  "metadata": {
    "colab": {
      "provenance": [],
      "authorship_tag": "ABX9TyNi3NXzK8oYKIMUJKmqfw9s",
      "include_colab_link": true
    },
    "kernelspec": {
      "name": "python3",
      "display_name": "Python 3"
    },
    "language_info": {
      "name": "python"
    }
  },
  "cells": [
    {
      "cell_type": "markdown",
      "metadata": {
        "id": "view-in-github",
        "colab_type": "text"
      },
      "source": [
        "<a href=\"https://colab.research.google.com/github/lerissamistry/Christmas-Coding-Challenge-2024/blob/main/Day_8.ipynb\" target=\"_parent\"><img src=\"https://colab.research.google.com/assets/colab-badge.svg\" alt=\"Open In Colab\"/></a>"
      ]
    },
    {
      "cell_type": "markdown",
      "source": [
        "**Problem: Step Tracker**\n",
        "\n",
        "You are tracking your daily steps for a week. Write a program to:\n",
        "\n",
        "Take a list of daily step counts for 7 days, e.g., [5000, 12000, 8000, 3000, 15000, 7000, 10000].\n",
        "\n",
        "Determine the total steps for the week.\n",
        "\n",
        "Identify the day(s) with the highest step count.\n",
        "\n",
        "Count how many days you met or exceeded the daily step goal of 10,000 steps.\n",
        "\n",
        "Provide feedback for each day:\n",
        "Below 5,000 steps: \"Let's move more tomorrow!\"\n",
        "Between 5,000 and 10,000 steps: \"Good job, but try for 10,000!\"\n",
        "10,000 steps or more: \"Fantastic effort today!\""
      ],
      "metadata": {
        "id": "Q9JP3k1Z-VhM"
      }
    },
    {
      "cell_type": "code",
      "source": [
        "def step_tracker(steps):\n",
        "    days = [\"Day 1\", \"Day 2\", \"Day 3\", \"Day 4\", \"Day 5\", \"Day 6\", \"Day 7\"]\n",
        "\n",
        "    total_steps = sum(steps)  # Total steps for the week\n",
        "    max_steps = max(steps)  # Highest step count\n",
        "    highest_days = [index + 1 for index, step in enumerate(steps) if step == max_steps]\n",
        "    days_meeting_goal = sum(1 for step in steps if step >= 10000)  # Days meeting or exceeding 10,000 steps\n",
        "\n",
        "    # Daily feedback\n",
        "    for day, step in zip(days, steps):\n",
        "        if step < 5000:\n",
        "            feedback = \"Let's move more tomorrow!\"\n",
        "        elif 5000 <= step < 10000:\n",
        "            feedback = \"Good job, but try for 10,000!\"\n",
        "        else:\n",
        "            feedback = \"Fantastic effort today!\"\n",
        "        print(f\"{day}: {step} steps - {feedback}\")\n",
        "\n",
        "    # Weekly summary\n",
        "    print(f\"Total steps for the week: {total_steps}\")\n",
        "    print(f\"Day(s) with the highest step count: {highest_days}\")\n",
        "    print(f\"Days meeting or exceeding 10,000 steps: {days_meeting_goal}\")\n"
      ],
      "metadata": {
        "id": "y7iqNqzg-tuI"
      },
      "execution_count": 1,
      "outputs": []
    },
    {
      "cell_type": "markdown",
      "source": [
        "Days with the Highest Step Count\n",
        "\n",
        "1. enumerate(steps):\n",
        "\n",
        "This goes through the list steps and gives both the index (position) and the value (step count) for each day. For example, for [5000, 12000], enumerate gives (0, 5000) and (1, 12000).\n",
        "\n",
        "2. if step == max_steps:\n",
        "\n",
        "This checks if the step count for the current day matches the highest step\n",
        "count (max_steps).\n",
        "\n",
        "3. index + 1:\n",
        "\n",
        "Since day numbers start from 1 (not 0), we add 1 to the index.\n",
        "\n",
        "4. [ ... for ... in ...]:\n",
        "\n",
        "This is a list comprehension that collects all days where the step count equals max_steps."
      ],
      "metadata": {
        "id": "evwac_5slst3"
      }
    },
    {
      "cell_type": "markdown",
      "source": [
        "The zip() function returns a zip object, which is an iterator of tuples where the first item in each passed iterator is paired together, and then the second item in each passed iterator are paired together etc.\n",
        "\n",
        "In computer programming, an iterator is an object that progressively provides access to each item of a collection, in order."
      ],
      "metadata": {
        "id": "U4d9FiZelDv-"
      }
    },
    {
      "cell_type": "code",
      "source": [
        "# Example input\n",
        "steps = [5000, 12000, 8000, 3000, 15000, 7000, 10000]"
      ],
      "metadata": {
        "id": "7Q25W3aMALDN"
      },
      "execution_count": 2,
      "outputs": []
    },
    {
      "cell_type": "code",
      "source": [
        "# Call the function\n",
        "step_tracker(steps)"
      ],
      "metadata": {
        "id": "kC6d9w9fAYss",
        "outputId": "ea2d83de-0e36-4740-dbea-26214cdc091a",
        "colab": {
          "base_uri": "https://localhost:8080/"
        }
      },
      "execution_count": 3,
      "outputs": [
        {
          "output_type": "stream",
          "name": "stdout",
          "text": [
            "Day 1: 5000 steps - Good job, but try for 10,000!\n",
            "Day 2: 12000 steps - Fantastic effort today!\n",
            "Day 3: 8000 steps - Good job, but try for 10,000!\n",
            "Day 4: 3000 steps - Let's move more tomorrow!\n",
            "Day 5: 15000 steps - Fantastic effort today!\n",
            "Day 6: 7000 steps - Good job, but try for 10,000!\n",
            "Day 7: 10000 steps - Fantastic effort today!\n",
            "Total steps for the week: 60000\n",
            "Day(s) with the highest step count: [5]\n",
            "Days meeting or exceeding 10,000 steps: 3\n"
          ]
        }
      ]
    },
    {
      "cell_type": "code",
      "source": [],
      "metadata": {
        "id": "dsHF8zTXAazl"
      },
      "execution_count": null,
      "outputs": []
    }
  ]
}