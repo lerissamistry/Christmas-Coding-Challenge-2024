{
  "nbformat": 4,
  "nbformat_minor": 0,
  "metadata": {
    "colab": {
      "provenance": [],
      "authorship_tag": "ABX9TyNIZkstKPPIypYfsYqjF+DY",
      "include_colab_link": true
    },
    "kernelspec": {
      "name": "python3",
      "display_name": "Python 3"
    },
    "language_info": {
      "name": "python"
    }
  },
  "cells": [
    {
      "cell_type": "markdown",
      "metadata": {
        "id": "view-in-github",
        "colab_type": "text"
      },
      "source": [
        "<a href=\"https://colab.research.google.com/github/lerissamistry/Christmas-Coding-Challenge-2024/blob/main/Day_9.ipynb\" target=\"_parent\"><img src=\"https://colab.research.google.com/assets/colab-badge.svg\" alt=\"Open In Colab\"/></a>"
      ]
    },
    {
      "cell_type": "markdown",
      "source": [
        "**Problem: Fitness Class Calorie Tracker**\n",
        "\n",
        "You are tracking calories burned during different fitness classes in a week. Write a program to:\n",
        "\n",
        "Take a dictionary where the keys are class names, and the values are lists of calories burned for each day of the week.\n",
        "\n",
        "Calculate and print:\n",
        "\n",
        "The total calories burned for each class over the week.\n",
        "The average calories burned per day for each class.\n",
        "Identify which class burned the most calories overall during the week.\n",
        "\n",
        "Print out the daily breakdown in the format:\n",
        "\"Monday: Yoga: 200, Pilates: 300, Zumba: 500\""
      ],
      "metadata": {
        "id": "Q9JP3k1Z-VhM"
      }
    },
    {
      "cell_type": "code",
      "source": [
        "def calorie_tracker(calories):\n",
        "    days = [\"Monday\", \"Tuesday\", \"Wednesday\", \"Thursday\", \"Friday\", \"Saturday\", \"Sunday\"]\n",
        "\n",
        "    # Print daily breakdown\n",
        "    print(\"Daily breakdown:\")\n",
        "    for day_index in range(len(days)):\n",
        "        daily_summary = f\"{days[day_index]}: \"\n",
        "        for class_name, class_calories in calories.items():\n",
        "            daily_summary += f\"{class_name}: {class_calories[day_index]}, \"\n",
        "        print(daily_summary.rstrip(\", \"))\n",
        "\n",
        "    print(\"\\nTotal calories burned this week:\")\n",
        "    total_calories = {}  # To store total calories for each class\n",
        "    for class_name, class_calories in calories.items():\n",
        "        total = sum(class_calories)\n",
        "        total_calories[class_name] = total\n",
        "        print(f\"{class_name}: {total}\")\n",
        "\n",
        "    print(\"\\nAverage calories burned per day:\")\n",
        "    for class_name, class_calories in calories.items():\n",
        "        avg = sum(class_calories) / len(class_calories)\n",
        "        print(f\"{class_name}: {avg:.2f}\")\n",
        "\n",
        "    # Find the class with the most calories burned\n",
        "    max_class = max(total_calories, key=total_calories.get)\n",
        "    print(f\"\\nClass with the most calories burned: {max_class} ({total_calories[max_class]})\")\n"
      ],
      "metadata": {
        "id": "dsHF8zTXAazl"
      },
      "execution_count": 1,
      "outputs": []
    },
    {
      "cell_type": "code",
      "source": [
        "# Example input\n",
        "calories = {\n",
        "    \"Yoga\": [200, 220, 250, 180, 300, 270, 230],\n",
        "    \"Pilates\": [300, 280, 310, 290, 330, 320, 310],\n",
        "    \"Zumba\": [500, 520, 480, 460, 550, 530, 490]\n",
        "}\n"
      ],
      "metadata": {
        "id": "uKKQtm-GWs4K"
      },
      "execution_count": 2,
      "outputs": []
    },
    {
      "cell_type": "code",
      "source": [
        "# Call the function\n",
        "calorie_tracker(calories)"
      ],
      "metadata": {
        "colab": {
          "base_uri": "https://localhost:8080/"
        },
        "id": "OmJ-b4n9Wwv6",
        "outputId": "77056df7-5d4f-4892-f90e-c62d93928436"
      },
      "execution_count": 3,
      "outputs": [
        {
          "output_type": "stream",
          "name": "stdout",
          "text": [
            "Daily breakdown:\n",
            "Monday: Yoga: 200, Pilates: 300, Zumba: 500\n",
            "Tuesday: Yoga: 220, Pilates: 280, Zumba: 520\n",
            "Wednesday: Yoga: 250, Pilates: 310, Zumba: 480\n",
            "Thursday: Yoga: 180, Pilates: 290, Zumba: 460\n",
            "Friday: Yoga: 300, Pilates: 330, Zumba: 550\n",
            "Saturday: Yoga: 270, Pilates: 320, Zumba: 530\n",
            "Sunday: Yoga: 230, Pilates: 310, Zumba: 490\n",
            "\n",
            "Total calories burned this week:\n",
            "Yoga: 1650\n",
            "Pilates: 2140\n",
            "Zumba: 3530\n",
            "\n",
            "Average calories burned per day:\n",
            "Yoga: 235.71\n",
            "Pilates: 305.71\n",
            "Zumba: 504.29\n",
            "\n",
            "Class with the most calories burned: Zumba (3530)\n"
          ]
        }
      ]
    },
    {
      "cell_type": "code",
      "source": [],
      "metadata": {
        "id": "q7Wtpzo2Wxbb"
      },
      "execution_count": null,
      "outputs": []
    }
  ]
}